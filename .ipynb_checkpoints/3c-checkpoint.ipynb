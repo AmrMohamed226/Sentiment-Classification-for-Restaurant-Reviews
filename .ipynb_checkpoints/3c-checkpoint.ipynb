{
 "cells": [
  {
   "cell_type": "code",
   "execution_count": 70,
   "id": "7849bedb",
   "metadata": {},
   "outputs": [],
   "source": [
    "import pandas as pd\n",
    "import numpy as np"
   ]
  },
  {
   "cell_type": "code",
   "execution_count": 206,
   "id": "55bcc1f2",
   "metadata": {},
   "outputs": [],
   "source": [
    "train = pd.read_csv('PA3_train.tsv', sep='\\t', names = ['annotation','review'], header=None) \n",
    "test = pd.read_csv('PA3_test_clean.tsv', sep='\\t', names = ['annotation','review'], header=None) "
   ]
  },
  {
   "cell_type": "markdown",
   "id": "4e4f9ed4",
   "metadata": {},
   "source": [
    "# Training Data Cleaning"
   ]
  },
  {
   "cell_type": "code",
   "execution_count": 207,
   "id": "91294026",
   "metadata": {},
   "outputs": [
    {
     "data": {
      "text/html": [
       "<div>\n",
       "<style scoped>\n",
       "    .dataframe tbody tr th:only-of-type {\n",
       "        vertical-align: middle;\n",
       "    }\n",
       "\n",
       "    .dataframe tbody tr th {\n",
       "        vertical-align: top;\n",
       "    }\n",
       "\n",
       "    .dataframe thead th {\n",
       "        text-align: right;\n",
       "    }\n",
       "</style>\n",
       "<table border=\"1\" class=\"dataframe\">\n",
       "  <thead>\n",
       "    <tr style=\"text-align: right;\">\n",
       "      <th></th>\n",
       "      <th>annotation</th>\n",
       "      <th>review</th>\n",
       "    </tr>\n",
       "  </thead>\n",
       "  <tbody>\n",
       "    <tr>\n",
       "      <th>0</th>\n",
       "      <td>0/0</td>\n",
       "      <td>Ordered my food the hole meal looked dead. pla...</td>\n",
       "    </tr>\n",
       "    <tr>\n",
       "      <th>1</th>\n",
       "      <td>1/1</td>\n",
       "      <td>We stopped her whilst walking in the Haga area...</td>\n",
       "    </tr>\n",
       "    <tr>\n",
       "      <th>2</th>\n",
       "      <td>0/0</td>\n",
       "      <td>Bad experience, On 23/03/19 Myself and my part...</td>\n",
       "    </tr>\n",
       "    <tr>\n",
       "      <th>3</th>\n",
       "      <td>0/0</td>\n",
       "      <td>Extremely underwhelming experience here last n...</td>\n",
       "    </tr>\n",
       "    <tr>\n",
       "      <th>4</th>\n",
       "      <td>0/0</td>\n",
       "      <td>Waited 30 minutes to get a table…that was ok. ...</td>\n",
       "    </tr>\n",
       "  </tbody>\n",
       "</table>\n",
       "</div>"
      ],
      "text/plain": [
       "  annotation                                             review\n",
       "0        0/0  Ordered my food the hole meal looked dead. pla...\n",
       "1        1/1  We stopped her whilst walking in the Haga area...\n",
       "2        0/0  Bad experience, On 23/03/19 Myself and my part...\n",
       "3        0/0  Extremely underwhelming experience here last n...\n",
       "4        0/0  Waited 30 minutes to get a table…that was ok. ..."
      ]
     },
     "execution_count": 207,
     "metadata": {},
     "output_type": "execute_result"
    }
   ],
   "source": [
    "train.head()"
   ]
  },
  {
   "cell_type": "code",
   "execution_count": 208,
   "id": "4554e634",
   "metadata": {},
   "outputs": [
    {
     "data": {
      "text/plain": [
       "(7018, 2)"
      ]
     },
     "execution_count": 208,
     "metadata": {},
     "output_type": "execute_result"
    }
   ],
   "source": [
    "train.shape"
   ]
  },
  {
   "cell_type": "code",
   "execution_count": 209,
   "id": "b6b74cfb",
   "metadata": {},
   "outputs": [
    {
     "data": {
      "text/plain": [
       "'We stopped her whilst walking in the Haga area. The Cafe is well recommended. Good service and we enjoyed our teas and a Cinamon Roll. The latter was large but so good that between us we finished it! Recommended stop off.'"
      ]
     },
     "execution_count": 209,
     "metadata": {},
     "output_type": "execute_result"
    }
   ],
   "source": [
    "train.review[1]"
   ]
  },
  {
   "cell_type": "code",
   "execution_count": 210,
   "id": "e1f9b23e",
   "metadata": {},
   "outputs": [],
   "source": [
    "train[['annotation1','annotation2']]=train.annotation.str.split('/', expand=True)"
   ]
  },
  {
   "cell_type": "code",
   "execution_count": 211,
   "id": "aaa5b01c",
   "metadata": {},
   "outputs": [
    {
     "data": {
      "text/html": [
       "<div>\n",
       "<style scoped>\n",
       "    .dataframe tbody tr th:only-of-type {\n",
       "        vertical-align: middle;\n",
       "    }\n",
       "\n",
       "    .dataframe tbody tr th {\n",
       "        vertical-align: top;\n",
       "    }\n",
       "\n",
       "    .dataframe thead th {\n",
       "        text-align: right;\n",
       "    }\n",
       "</style>\n",
       "<table border=\"1\" class=\"dataframe\">\n",
       "  <thead>\n",
       "    <tr style=\"text-align: right;\">\n",
       "      <th></th>\n",
       "      <th>annotation</th>\n",
       "      <th>review</th>\n",
       "      <th>annotation1</th>\n",
       "      <th>annotation2</th>\n",
       "    </tr>\n",
       "  </thead>\n",
       "  <tbody>\n",
       "    <tr>\n",
       "      <th>0</th>\n",
       "      <td>0/0</td>\n",
       "      <td>Ordered my food the hole meal looked dead. pla...</td>\n",
       "      <td>0</td>\n",
       "      <td>0</td>\n",
       "    </tr>\n",
       "    <tr>\n",
       "      <th>1</th>\n",
       "      <td>1/1</td>\n",
       "      <td>We stopped her whilst walking in the Haga area...</td>\n",
       "      <td>1</td>\n",
       "      <td>1</td>\n",
       "    </tr>\n",
       "    <tr>\n",
       "      <th>2</th>\n",
       "      <td>0/0</td>\n",
       "      <td>Bad experience, On 23/03/19 Myself and my part...</td>\n",
       "      <td>0</td>\n",
       "      <td>0</td>\n",
       "    </tr>\n",
       "    <tr>\n",
       "      <th>3</th>\n",
       "      <td>0/0</td>\n",
       "      <td>Extremely underwhelming experience here last n...</td>\n",
       "      <td>0</td>\n",
       "      <td>0</td>\n",
       "    </tr>\n",
       "    <tr>\n",
       "      <th>4</th>\n",
       "      <td>0/0</td>\n",
       "      <td>Waited 30 minutes to get a table…that was ok. ...</td>\n",
       "      <td>0</td>\n",
       "      <td>0</td>\n",
       "    </tr>\n",
       "  </tbody>\n",
       "</table>\n",
       "</div>"
      ],
      "text/plain": [
       "  annotation                                             review annotation1  \\\n",
       "0        0/0  Ordered my food the hole meal looked dead. pla...           0   \n",
       "1        1/1  We stopped her whilst walking in the Haga area...           1   \n",
       "2        0/0  Bad experience, On 23/03/19 Myself and my part...           0   \n",
       "3        0/0  Extremely underwhelming experience here last n...           0   \n",
       "4        0/0  Waited 30 minutes to get a table…that was ok. ...           0   \n",
       "\n",
       "  annotation2  \n",
       "0           0  \n",
       "1           1  \n",
       "2           0  \n",
       "3           0  \n",
       "4           0  "
      ]
     },
     "execution_count": 211,
     "metadata": {},
     "output_type": "execute_result"
    }
   ],
   "source": [
    "train.head()"
   ]
  },
  {
   "cell_type": "code",
   "execution_count": 212,
   "id": "68e99cae",
   "metadata": {},
   "outputs": [
    {
     "data": {
      "text/plain": [
       "array(['0/0', '1/1', '1/0', '-1/0', '-1/1', '0/1', '2/1', '2/0', '1/',\n",
       "       '9/1'], dtype=object)"
      ]
     },
     "execution_count": 212,
     "metadata": {},
     "output_type": "execute_result"
    }
   ],
   "source": [
    "train.annotation.unique()"
   ]
  },
  {
   "cell_type": "code",
   "execution_count": 213,
   "id": "e21db22d",
   "metadata": {
    "scrolled": true
   },
   "outputs": [
    {
     "data": {
      "text/plain": [
       "array(['0', '1', '-1', '2', '9'], dtype=object)"
      ]
     },
     "execution_count": 213,
     "metadata": {},
     "output_type": "execute_result"
    }
   ],
   "source": [
    "train.annotation1.unique()"
   ]
  },
  {
   "cell_type": "code",
   "execution_count": 214,
   "id": "3a12ec78",
   "metadata": {
    "scrolled": true
   },
   "outputs": [
    {
     "data": {
      "text/plain": [
       "array(['0', '1', ''], dtype=object)"
      ]
     },
     "execution_count": 214,
     "metadata": {},
     "output_type": "execute_result"
    }
   ],
   "source": [
    "train.annotation2.unique()"
   ]
  },
  {
   "cell_type": "code",
   "execution_count": 215,
   "id": "05ad3c25",
   "metadata": {},
   "outputs": [],
   "source": [
    "train[train.annotation2=='']=train[train.annotation2==''].replace(r'^\\s*$', np.nan, regex=True)"
   ]
  },
  {
   "cell_type": "code",
   "execution_count": 216,
   "id": "643261de",
   "metadata": {},
   "outputs": [
    {
     "data": {
      "text/html": [
       "<div>\n",
       "<style scoped>\n",
       "    .dataframe tbody tr th:only-of-type {\n",
       "        vertical-align: middle;\n",
       "    }\n",
       "\n",
       "    .dataframe tbody tr th {\n",
       "        vertical-align: top;\n",
       "    }\n",
       "\n",
       "    .dataframe thead th {\n",
       "        text-align: right;\n",
       "    }\n",
       "</style>\n",
       "<table border=\"1\" class=\"dataframe\">\n",
       "  <thead>\n",
       "    <tr style=\"text-align: right;\">\n",
       "      <th></th>\n",
       "      <th>annotation</th>\n",
       "      <th>review</th>\n",
       "      <th>annotation1</th>\n",
       "      <th>annotation2</th>\n",
       "    </tr>\n",
       "  </thead>\n",
       "  <tbody>\n",
       "    <tr>\n",
       "      <th>0</th>\n",
       "      <td>0/0</td>\n",
       "      <td>Ordered my food the hole meal looked dead. pla...</td>\n",
       "      <td>0</td>\n",
       "      <td>0</td>\n",
       "    </tr>\n",
       "    <tr>\n",
       "      <th>1</th>\n",
       "      <td>1/1</td>\n",
       "      <td>We stopped her whilst walking in the Haga area...</td>\n",
       "      <td>1</td>\n",
       "      <td>1</td>\n",
       "    </tr>\n",
       "    <tr>\n",
       "      <th>2</th>\n",
       "      <td>0/0</td>\n",
       "      <td>Bad experience, On 23/03/19 Myself and my part...</td>\n",
       "      <td>0</td>\n",
       "      <td>0</td>\n",
       "    </tr>\n",
       "    <tr>\n",
       "      <th>3</th>\n",
       "      <td>0/0</td>\n",
       "      <td>Extremely underwhelming experience here last n...</td>\n",
       "      <td>0</td>\n",
       "      <td>0</td>\n",
       "    </tr>\n",
       "    <tr>\n",
       "      <th>4</th>\n",
       "      <td>0/0</td>\n",
       "      <td>Waited 30 minutes to get a table…that was ok. ...</td>\n",
       "      <td>0</td>\n",
       "      <td>0</td>\n",
       "    </tr>\n",
       "  </tbody>\n",
       "</table>\n",
       "</div>"
      ],
      "text/plain": [
       "  annotation                                             review annotation1  \\\n",
       "0        0/0  Ordered my food the hole meal looked dead. pla...           0   \n",
       "1        1/1  We stopped her whilst walking in the Haga area...           1   \n",
       "2        0/0  Bad experience, On 23/03/19 Myself and my part...           0   \n",
       "3        0/0  Extremely underwhelming experience here last n...           0   \n",
       "4        0/0  Waited 30 minutes to get a table…that was ok. ...           0   \n",
       "\n",
       "  annotation2  \n",
       "0           0  \n",
       "1           1  \n",
       "2           0  \n",
       "3           0  \n",
       "4           0  "
      ]
     },
     "execution_count": 216,
     "metadata": {},
     "output_type": "execute_result"
    }
   ],
   "source": [
    "train.head()"
   ]
  },
  {
   "cell_type": "code",
   "execution_count": 217,
   "id": "20ad4498",
   "metadata": {},
   "outputs": [
    {
     "data": {
      "text/plain": [
       "array(['0', '1', nan], dtype=object)"
      ]
     },
     "execution_count": 217,
     "metadata": {},
     "output_type": "execute_result"
    }
   ],
   "source": [
    "train.annotation2.unique()"
   ]
  },
  {
   "cell_type": "code",
   "execution_count": 218,
   "id": "5da8b36c",
   "metadata": {
    "scrolled": false
   },
   "outputs": [
    {
     "data": {
      "text/plain": [
       "count     7017\n",
       "unique       2\n",
       "top          1\n",
       "freq      3644\n",
       "Name: annotation2, dtype: object"
      ]
     },
     "execution_count": 218,
     "metadata": {},
     "output_type": "execute_result"
    }
   ],
   "source": [
    "train.annotation2.describe()"
   ]
  },
  {
   "cell_type": "code",
   "execution_count": 219,
   "id": "aa8656e2",
   "metadata": {},
   "outputs": [
    {
     "data": {
      "text/plain": [
       "3644"
      ]
     },
     "execution_count": 219,
     "metadata": {},
     "output_type": "execute_result"
    }
   ],
   "source": [
    "train[train.annotation2=='1'].annotation2.count()"
   ]
  },
  {
   "cell_type": "code",
   "execution_count": 220,
   "id": "26fab984",
   "metadata": {},
   "outputs": [
    {
     "data": {
      "text/plain": [
       "3373"
      ]
     },
     "execution_count": 220,
     "metadata": {},
     "output_type": "execute_result"
    }
   ],
   "source": [
    "train[train.annotation2=='0'].annotation2.count()"
   ]
  },
  {
   "cell_type": "code",
   "execution_count": 221,
   "id": "8ab581ff",
   "metadata": {},
   "outputs": [],
   "source": [
    "train['annotation2'].fillna(train['annotation1'],inplace=True)"
   ]
  },
  {
   "cell_type": "code",
   "execution_count": 222,
   "id": "12e44d76",
   "metadata": {},
   "outputs": [
    {
     "data": {
      "text/plain": [
       "array(['0', '1'], dtype=object)"
      ]
     },
     "execution_count": 222,
     "metadata": {},
     "output_type": "execute_result"
    }
   ],
   "source": [
    "train.annotation2.unique()"
   ]
  },
  {
   "cell_type": "code",
   "execution_count": 223,
   "id": "d8eb5af8",
   "metadata": {},
   "outputs": [
    {
     "data": {
      "text/plain": [
       "count     7018\n",
       "unique       2\n",
       "top          1\n",
       "freq      3645\n",
       "Name: annotation2, dtype: object"
      ]
     },
     "execution_count": 223,
     "metadata": {},
     "output_type": "execute_result"
    }
   ],
   "source": [
    "train.annotation2.describe()"
   ]
  },
  {
   "cell_type": "code",
   "execution_count": 224,
   "id": "05f5198f",
   "metadata": {},
   "outputs": [
    {
     "data": {
      "text/plain": [
       "3645"
      ]
     },
     "execution_count": 224,
     "metadata": {},
     "output_type": "execute_result"
    }
   ],
   "source": [
    "train[train.annotation2=='1'].annotation2.count()"
   ]
  },
  {
   "cell_type": "code",
   "execution_count": 225,
   "id": "5c276d99",
   "metadata": {},
   "outputs": [
    {
     "data": {
      "text/plain": [
       "3373"
      ]
     },
     "execution_count": 225,
     "metadata": {},
     "output_type": "execute_result"
    }
   ],
   "source": [
    "train[train.annotation2=='0'].annotation2.count()"
   ]
  },
  {
   "cell_type": "code",
   "execution_count": 237,
   "id": "765263d4",
   "metadata": {},
   "outputs": [],
   "source": [
    "train_df=train[['review', 'annotation2']]\n",
    "train_df=train_df.rename(columns={\"annotation2\": \"annotation\"})\n",
    "train_df.annotation=pd.to_numeric(train_df.annotation)"
   ]
  },
  {
   "cell_type": "code",
   "execution_count": 238,
   "id": "4a6f30c3",
   "metadata": {
    "scrolled": true
   },
   "outputs": [
    {
     "data": {
      "text/html": [
       "<div>\n",
       "<style scoped>\n",
       "    .dataframe tbody tr th:only-of-type {\n",
       "        vertical-align: middle;\n",
       "    }\n",
       "\n",
       "    .dataframe tbody tr th {\n",
       "        vertical-align: top;\n",
       "    }\n",
       "\n",
       "    .dataframe thead th {\n",
       "        text-align: right;\n",
       "    }\n",
       "</style>\n",
       "<table border=\"1\" class=\"dataframe\">\n",
       "  <thead>\n",
       "    <tr style=\"text-align: right;\">\n",
       "      <th></th>\n",
       "      <th>review</th>\n",
       "      <th>annotation</th>\n",
       "    </tr>\n",
       "  </thead>\n",
       "  <tbody>\n",
       "    <tr>\n",
       "      <th>0</th>\n",
       "      <td>Ordered my food the hole meal looked dead. pla...</td>\n",
       "      <td>0</td>\n",
       "    </tr>\n",
       "    <tr>\n",
       "      <th>1</th>\n",
       "      <td>We stopped her whilst walking in the Haga area...</td>\n",
       "      <td>1</td>\n",
       "    </tr>\n",
       "    <tr>\n",
       "      <th>2</th>\n",
       "      <td>Bad experience, On 23/03/19 Myself and my part...</td>\n",
       "      <td>0</td>\n",
       "    </tr>\n",
       "    <tr>\n",
       "      <th>3</th>\n",
       "      <td>Extremely underwhelming experience here last n...</td>\n",
       "      <td>0</td>\n",
       "    </tr>\n",
       "    <tr>\n",
       "      <th>4</th>\n",
       "      <td>Waited 30 minutes to get a table…that was ok. ...</td>\n",
       "      <td>0</td>\n",
       "    </tr>\n",
       "  </tbody>\n",
       "</table>\n",
       "</div>"
      ],
      "text/plain": [
       "                                              review  annotation\n",
       "0  Ordered my food the hole meal looked dead. pla...           0\n",
       "1  We stopped her whilst walking in the Haga area...           1\n",
       "2  Bad experience, On 23/03/19 Myself and my part...           0\n",
       "3  Extremely underwhelming experience here last n...           0\n",
       "4  Waited 30 minutes to get a table…that was ok. ...           0"
      ]
     },
     "execution_count": 238,
     "metadata": {},
     "output_type": "execute_result"
    }
   ],
   "source": [
    "train_df.head()"
   ]
  },
  {
   "cell_type": "code",
   "execution_count": 239,
   "id": "deb33574",
   "metadata": {},
   "outputs": [
    {
     "name": "stdout",
     "output_type": "stream",
     "text": [
      "<class 'pandas.core.frame.DataFrame'>\n",
      "RangeIndex: 7018 entries, 0 to 7017\n",
      "Data columns (total 2 columns):\n",
      " #   Column      Non-Null Count  Dtype \n",
      "---  ------      --------------  ----- \n",
      " 0   review      7018 non-null   object\n",
      " 1   annotation  7018 non-null   int64 \n",
      "dtypes: int64(1), object(1)\n",
      "memory usage: 109.8+ KB\n"
     ]
    }
   ],
   "source": [
    "train_df.info()"
   ]
  },
  {
   "cell_type": "markdown",
   "id": "9df242c3",
   "metadata": {},
   "source": [
    "# Test data cleaning"
   ]
  },
  {
   "cell_type": "code",
   "execution_count": 241,
   "id": "0f50e5a1",
   "metadata": {},
   "outputs": [
    {
     "data": {
      "text/html": [
       "<div>\n",
       "<style scoped>\n",
       "    .dataframe tbody tr th:only-of-type {\n",
       "        vertical-align: middle;\n",
       "    }\n",
       "\n",
       "    .dataframe tbody tr th {\n",
       "        vertical-align: top;\n",
       "    }\n",
       "\n",
       "    .dataframe thead th {\n",
       "        text-align: right;\n",
       "    }\n",
       "</style>\n",
       "<table border=\"1\" class=\"dataframe\">\n",
       "  <thead>\n",
       "    <tr style=\"text-align: right;\">\n",
       "      <th></th>\n",
       "      <th>annotation</th>\n",
       "      <th>review</th>\n",
       "    </tr>\n",
       "  </thead>\n",
       "  <tbody>\n",
       "    <tr>\n",
       "      <th>0</th>\n",
       "      <td>0</td>\n",
       "      <td>Over all I felt a bit disappointing with abov...</td>\n",
       "    </tr>\n",
       "    <tr>\n",
       "      <th>1</th>\n",
       "      <td>1</td>\n",
       "      <td>A wonderful experience!</td>\n",
       "    </tr>\n",
       "    <tr>\n",
       "      <th>2</th>\n",
       "      <td>1</td>\n",
       "      <td>Always very delicious dishes and attentive ser...</td>\n",
       "    </tr>\n",
       "    <tr>\n",
       "      <th>3</th>\n",
       "      <td>1</td>\n",
       "      <td>Amazing as always</td>\n",
       "    </tr>\n",
       "    <tr>\n",
       "      <th>4</th>\n",
       "      <td>1</td>\n",
       "      <td>Amazing food, the aubergine mess and the Tunis...</td>\n",
       "    </tr>\n",
       "  </tbody>\n",
       "</table>\n",
       "</div>"
      ],
      "text/plain": [
       "   annotation                                             review\n",
       "0           0   Over all I felt a bit disappointing with abov...\n",
       "1           1                            A wonderful experience!\n",
       "2           1  Always very delicious dishes and attentive ser...\n",
       "3           1                                  Amazing as always\n",
       "4           1  Amazing food, the aubergine mess and the Tunis..."
      ]
     },
     "execution_count": 241,
     "metadata": {},
     "output_type": "execute_result"
    }
   ],
   "source": [
    "test.head()"
   ]
  },
  {
   "cell_type": "code",
   "execution_count": 242,
   "id": "18127202",
   "metadata": {},
   "outputs": [
    {
     "data": {
      "text/plain": [
       "(1751, 2)"
      ]
     },
     "execution_count": 242,
     "metadata": {},
     "output_type": "execute_result"
    }
   ],
   "source": [
    "test.shape"
   ]
  },
  {
   "cell_type": "code",
   "execution_count": 246,
   "id": "7ba8a670",
   "metadata": {},
   "outputs": [
    {
     "data": {
      "text/plain": [
       "array([0, 1], dtype=int64)"
      ]
     },
     "execution_count": 246,
     "metadata": {},
     "output_type": "execute_result"
    }
   ],
   "source": [
    "test.annotation.unique()"
   ]
  },
  {
   "cell_type": "code",
   "execution_count": 247,
   "id": "ddcb803e",
   "metadata": {},
   "outputs": [
    {
     "data": {
      "text/plain": [
       "886"
      ]
     },
     "execution_count": 247,
     "metadata": {},
     "output_type": "execute_result"
    }
   ],
   "source": [
    "test[test.annotation== 1 ].annotation.count()"
   ]
  },
  {
   "cell_type": "code",
   "execution_count": 248,
   "id": "eb22c394",
   "metadata": {},
   "outputs": [
    {
     "data": {
      "text/plain": [
       "865"
      ]
     },
     "execution_count": 248,
     "metadata": {},
     "output_type": "execute_result"
    }
   ],
   "source": [
    "test[test.annotation== 0 ].annotation.count()"
   ]
  },
  {
   "cell_type": "markdown",
   "id": "1658df2e",
   "metadata": {},
   "source": [
    "# TF-IDF vectorization"
   ]
  },
  {
   "cell_type": "code",
   "execution_count": 269,
   "id": "5e3ad4fd",
   "metadata": {},
   "outputs": [],
   "source": [
    "# the actual classification algorithm\n",
    "from sklearn.svm import LinearSVC\n",
    "\n",
    "# for converting training and test datasets into matrices\n",
    "# TfidfVectorizer does this specifically for documents\n",
    "from sklearn.feature_extraction.text import TfidfVectorizer\n",
    "\n",
    "# for bundling the vectorizer and the classifier as a single \"package\"\n",
    "from sklearn.pipeline import make_pipeline\n",
    "\n",
    "# for splitting the dataset into training and test sets \n",
    "from sklearn.model_selection import train_test_split\n",
    "\n",
    "# for evaluating the quality of the classifier\n",
    "from sklearn.metrics import accuracy_score"
   ]
  },
  {
   "cell_type": "code",
   "execution_count": 270,
   "id": "0245c244",
   "metadata": {},
   "outputs": [],
   "source": [
    "tfidfvec = TfidfVectorizer()\n",
    "X_train = tfidfvec.fit_transform(train_df.review)\n",
    "X_test = tfidfvec.fit_transform(test.review)"
   ]
  },
  {
   "cell_type": "markdown",
   "id": "3a41cc44",
   "metadata": {},
   "source": [
    "# ML models"
   ]
  },
  {
   "cell_type": "code",
   "execution_count": null,
   "id": "52042781",
   "metadata": {},
   "outputs": [],
   "source": []
  }
 ],
 "metadata": {
  "kernelspec": {
   "display_name": "Python 3 (ipykernel)",
   "language": "python",
   "name": "python3"
  },
  "language_info": {
   "codemirror_mode": {
    "name": "ipython",
    "version": 3
   },
   "file_extension": ".py",
   "mimetype": "text/x-python",
   "name": "python",
   "nbconvert_exporter": "python",
   "pygments_lexer": "ipython3",
   "version": "3.7.3"
  }
 },
 "nbformat": 4,
 "nbformat_minor": 5
}
