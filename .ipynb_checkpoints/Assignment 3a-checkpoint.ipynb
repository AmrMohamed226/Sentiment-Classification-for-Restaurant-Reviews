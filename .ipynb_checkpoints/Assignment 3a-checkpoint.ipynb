{
 "cells": [
  {
   "cell_type": "code",
   "execution_count": 70,
   "id": "39be5170",
   "metadata": {},
   "outputs": [],
   "source": [
    "import lxml.html\n",
    "from selenium import webdriver\n",
    "from selenium.webdriver.common.by import By\n",
    "from selenium.webdriver.support.ui import WebDriverWait \n",
    "from selenium.webdriver.support import expected_conditions as EC"
   ]
  },
  {
   "cell_type": "code",
   "execution_count": 73,
   "id": "3e8eed24",
   "metadata": {},
   "outputs": [],
   "source": [
    "# for i in range(0,150,15):\n",
    "url = 'https://www.tripadvisor.com/Restaurant_Review-g45963-d422629-Reviews-or'+''+ '-Mon_Ami_Gabi-Las_Vegas_Nevada.html'\n",
    "\n",
    "options = webdriver.ChromeOptions()\n",
    "prefs = {\n",
    "  \"translate_whitelists\": {\"your native language\":\"en\"},\n",
    "  \"translate\":{\"enabled\":\"True\"}\n",
    "}\n",
    "options.add_experimental_option(\"prefs\", prefs)\n",
    "driver = webdriver.Chrome(executable_path='C://Users//Administrator//chromedriver_win32//chromedriver.exe',options=options)\n",
    "driver.get(url)\n",
    "# WebDriverWait(driver, 20).until(EC.element_to_be_clickable((By.XPATH, \"//input[@placeholder='Search reviews']//following::div[@data-test-target='HR_CC_CARD']//span[text()='...']\"))).click()\n",
    "tree = lxml.html.fromstring(driver.page_source)\n",
    "ratings=[]\n",
    "review=[]\n",
    "    "
   ]
  },
  {
   "cell_type": "code",
   "execution_count": 105,
   "id": "7e988483",
   "metadata": {},
   "outputs": [],
   "source": [
    "ratings=[]\n",
    "review=[]\n",
    "for k in range(0,150,15):\n",
    "    url = 'https://www.tripadvisor.com/Restaurant_Review-g45963-d422629-Reviews-or'+str(k)+ '-Mon_Ami_Gabi-Las_Vegas_Nevada.html'\n",
    "\n",
    "    options = webdriver.ChromeOptions()\n",
    "    prefs = {\n",
    "      \"translate_whitelists\": {\"your native language\":\"en\"},\n",
    "      \"translate\":{\"enabled\":\"True\"}\n",
    "    }\n",
    "    options.add_experimental_option(\"prefs\", prefs)\n",
    "    driver = webdriver.Chrome(executable_path='C://Users//Administrator//chromedriver_win32//chromedriver.exe',options=options)\n",
    "    driver.get(url)\n",
    "    tree = lxml.html.fromstring(driver.page_source)\n",
    "    driver.close()\n",
    "    rating_class = driver.find_elements_by_xpath(\".//span[contains(@class, 'ui_bubble_rating bubble_')]\")#.get_attribute(\"class\")\n",
    "\n",
    "    for i in rating_class[5:20]:\n",
    "        ratings.append(float(i.get_attribute(\"class\").split(\"_\")[3]+'\\n')/10)\n",
    "    for i in driver.find_elements_by_class_name('partial_entry'):\n",
    "        review.append(i.get_attribute('textContent').encode(\"utf-8\"))"
   ]
  },
  {
   "cell_type": "code",
   "execution_count": null,
   "id": "7f068634",
   "metadata": {},
   "outputs": [],
   "source": [
    "ratings=[]\n",
    "review=[]\n",
    "for k in range(0,15,15):\n",
    "    url = 'https://www.tripadvisor.com/Restaurant_Review-g45963-d422629-Reviews-or'+str(k)+ '-Mon_Ami_Gabi-Las_Vegas_Nevada.html'\n",
    "\n",
    "    options = webdriver.ChromeOptions()\n",
    "    prefs = {\n",
    "      \"translate_whitelists\": {\"your native language\":\"en\"},\n",
    "      \"translate\":{\"enabled\":\"True\"}\n",
    "    }\n",
    "    options.add_experimental_option(\"prefs\", prefs)\n",
    "    driver = webdriver.Chrome(executable_path='C://Users//Administrator//chromedriver_win32//chromedriver.exe',options=options)\n",
    "    driver.get(url)\n",
    "    tree = lxml.html.fromstring(driver.page_source)\n",
    "#     driver.close()\n",
    "    rating_class = driver.find_elements_by_class_name('ui_bubble_rating bubble_')#.get_attribute(\"class\")\n",
    "    for i in rating_class[5:20]:\n",
    "        ratings.append((i.get_attribute(\"class\").split(\"_\")[3]+'\\n')/10)\n",
    "    for i in driver.find_elements_by_class_name('partial_entry'):\n",
    "        review.append(str(i.get_attribute('textContent').encode(\"utf-8\")))"
   ]
  },
  {
   "cell_type": "code",
   "execution_count": 111,
   "id": "d06bbf38",
   "metadata": {},
   "outputs": [
    {
     "ename": "NameError",
     "evalue": "name 'rating' is not defined",
     "output_type": "error",
     "traceback": [
      "\u001b[1;31m---------------------------------------------------------------------------\u001b[0m",
      "\u001b[1;31mNameError\u001b[0m                                 Traceback (most recent call last)",
      "\u001b[1;32mC:\\Users\\ADMINI~1\\AppData\\Local\\Temp/ipykernel_1660/2052910798.py\u001b[0m in \u001b[0;36m<module>\u001b[1;34m\u001b[0m\n\u001b[1;32m----> 1\u001b[1;33m \u001b[0mrating\u001b[0m\u001b[1;33m\u001b[0m\u001b[1;33m\u001b[0m\u001b[0m\n\u001b[0m",
      "\u001b[1;31mNameError\u001b[0m: name 'rating' is not defined"
     ]
    }
   ],
   "source": [
    "rating"
   ]
  },
  {
   "cell_type": "code",
   "execution_count": 49,
   "id": "e0745df5",
   "metadata": {},
   "outputs": [],
   "source": [
    "# print(tree.xpath('//*[@id=\"review_833496205\"]/div/div[2]/div[2]/div/p/text()'))"
   ]
  },
  {
   "cell_type": "code",
   "execution_count": 50,
   "id": "6ede3aa1",
   "metadata": {},
   "outputs": [],
   "source": [
    "# print(tree.xpath('//*[@id=\"review_833417037\"]/div/div[2]/div[2]/div/p/text()'))\n"
   ]
  },
  {
   "cell_type": "code",
   "execution_count": 78,
   "id": "743e82de",
   "metadata": {},
   "outputs": [
    {
     "name": "stdout",
     "output_type": "stream",
     "text": [
      "<selenium.webdriver.remote.webelement.WebElement (session=\"e0a5f7601fb9c74328f2f83f6a4bb237\", element=\"bf7e31e5-44ab-4f54-88c5-527324e4606e\")>\n",
      "0\n",
      "<selenium.webdriver.remote.webelement.WebElement (session=\"e0a5f7601fb9c74328f2f83f6a4bb237\", element=\"a0466853-f903-435a-a690-49f70657aaec\")>\n",
      "1\n",
      "<selenium.webdriver.remote.webelement.WebElement (session=\"e0a5f7601fb9c74328f2f83f6a4bb237\", element=\"d3d0b765-ad16-4541-a4a0-2ec04fe7bb46\")>\n",
      "2\n",
      "<selenium.webdriver.remote.webelement.WebElement (session=\"e0a5f7601fb9c74328f2f83f6a4bb237\", element=\"d62e929a-f161-4055-b0f5-44b2ab6b6200\")>\n",
      "3\n",
      "<selenium.webdriver.remote.webelement.WebElement (session=\"e0a5f7601fb9c74328f2f83f6a4bb237\", element=\"385375aa-1966-4f7f-a5ad-a368d3198046\")>\n",
      "4\n",
      "<selenium.webdriver.remote.webelement.WebElement (session=\"e0a5f7601fb9c74328f2f83f6a4bb237\", element=\"a845fac2-7e6d-439e-b474-cf875e48e18e\")>\n",
      "5\n",
      "<selenium.webdriver.remote.webelement.WebElement (session=\"e0a5f7601fb9c74328f2f83f6a4bb237\", element=\"ca03fea1-2922-441f-b1fa-af630f7188fb\")>\n",
      "6\n",
      "<selenium.webdriver.remote.webelement.WebElement (session=\"e0a5f7601fb9c74328f2f83f6a4bb237\", element=\"cabf8944-35f9-4035-8cf9-c979ff3560ca\")>\n",
      "7\n",
      "<selenium.webdriver.remote.webelement.WebElement (session=\"e0a5f7601fb9c74328f2f83f6a4bb237\", element=\"8775d535-e179-4f83-87ca-244d3053ffdd\")>\n",
      "8\n"
     ]
    }
   ],
   "source": [
    "cpt=0\n",
    "for i in driver.find_elements_by_class_name('postSnippet'):\n",
    "    print(i)\n",
    "    print(cpt)\n",
    "    cpt+=1"
   ]
  },
  {
   "cell_type": "code",
   "execution_count": 79,
   "id": "b6108a22",
   "metadata": {
    "collapsed": true
   },
   "outputs": [
    {
     "name": "stdout",
     "output_type": "stream",
     "text": [
      "<selenium.webdriver.remote.webelement.WebElement (session=\"e0a5f7601fb9c74328f2f83f6a4bb237\", element=\"9479281d-3212-4b59-8d83-572343edf34b\")>\n",
      "0\n",
      "<selenium.webdriver.remote.webelement.WebElement (session=\"e0a5f7601fb9c74328f2f83f6a4bb237\", element=\"f34ed12f-90c4-43c0-8b44-b8ae3978f268\")>\n",
      "1\n",
      "<selenium.webdriver.remote.webelement.WebElement (session=\"e0a5f7601fb9c74328f2f83f6a4bb237\", element=\"e965358c-ccf2-411f-a3a6-bb2d393b3cac\")>\n",
      "2\n",
      "<selenium.webdriver.remote.webelement.WebElement (session=\"e0a5f7601fb9c74328f2f83f6a4bb237\", element=\"becc0069-b915-4998-af91-76e542f5aeb1\")>\n",
      "3\n",
      "<selenium.webdriver.remote.webelement.WebElement (session=\"e0a5f7601fb9c74328f2f83f6a4bb237\", element=\"563a7687-263c-451c-a309-e484afd5756c\")>\n",
      "4\n",
      "<selenium.webdriver.remote.webelement.WebElement (session=\"e0a5f7601fb9c74328f2f83f6a4bb237\", element=\"69255bf4-adb7-4770-ad54-652232050d7c\")>\n",
      "5\n",
      "<selenium.webdriver.remote.webelement.WebElement (session=\"e0a5f7601fb9c74328f2f83f6a4bb237\", element=\"e3750a24-a82c-45ed-b8f4-6f0230d806b5\")>\n",
      "6\n",
      "<selenium.webdriver.remote.webelement.WebElement (session=\"e0a5f7601fb9c74328f2f83f6a4bb237\", element=\"f2f21fb2-9efe-4a1d-a842-787d688182be\")>\n",
      "7\n",
      "<selenium.webdriver.remote.webelement.WebElement (session=\"e0a5f7601fb9c74328f2f83f6a4bb237\", element=\"15471a06-59e9-4c8b-a29f-056f65b4c79d\")>\n",
      "8\n",
      "<selenium.webdriver.remote.webelement.WebElement (session=\"e0a5f7601fb9c74328f2f83f6a4bb237\", element=\"78ed1e6a-6994-443f-b0dd-ebaa607e08c0\")>\n",
      "9\n",
      "<selenium.webdriver.remote.webelement.WebElement (session=\"e0a5f7601fb9c74328f2f83f6a4bb237\", element=\"824ecc57-9cd8-46cb-a597-5aa90c92ee0b\")>\n",
      "10\n",
      "<selenium.webdriver.remote.webelement.WebElement (session=\"e0a5f7601fb9c74328f2f83f6a4bb237\", element=\"436ceb7e-90a3-461e-9917-6c9e9bdb38ce\")>\n",
      "11\n",
      "<selenium.webdriver.remote.webelement.WebElement (session=\"e0a5f7601fb9c74328f2f83f6a4bb237\", element=\"64da1b39-fe04-43c1-b544-a52877ee8509\")>\n",
      "12\n",
      "<selenium.webdriver.remote.webelement.WebElement (session=\"e0a5f7601fb9c74328f2f83f6a4bb237\", element=\"37b8e43c-ebd8-4f94-b262-85d1916974bf\")>\n",
      "13\n",
      "<selenium.webdriver.remote.webelement.WebElement (session=\"e0a5f7601fb9c74328f2f83f6a4bb237\", element=\"c78b9fa0-8f84-424b-b027-d6193988001b\")>\n",
      "14\n"
     ]
    }
   ],
   "source": [
    "cpt=0\n",
    "for i in driver.find_elements_by_class_name('partial_entry'):\n",
    "    print(i)\n",
    "    print(cpt)\n",
    "    cpt+=1"
   ]
  },
  {
   "cell_type": "code",
   "execution_count": 94,
   "id": "2a993649",
   "metadata": {},
   "outputs": [
    {
     "name": "stdout",
     "output_type": "stream",
     "text": [
      "b'Thank You for a wonderful time. My wife thoroughly enjoyed every minute of the meal and we will return next time we go to Vegas'\n",
      "\n",
      "\n",
      "b\"Went to Mon Ami Gabi at Paris Las Vegas for a quick bite pre- show at the Bellagio. (Across the Blvd.).\\n\\nTried the escargot, and a Brie burger both delicious and the best part was our server.\\n\\nJacob B. # 1520 was on point, helpful...with directions to our destination and completely professional.\\n\\nAsk for him if you dine there you won't be disappointed he will answer all if your questions and help your decision making process.\\n\\nThe food & service were top drawer all the wayMore\"\n",
      "\n",
      "\n",
      "b'Although we have been to Vegas many times we had never eaten here. This year we decided to have breakfast here.  It was easy to book a table on line. We had an 8:45 reservation. We arrived at 8 and asked if possible to get...on the list for the terrace and the hostess said of course and they would text me when a table was available. I got the text at 8:15. We were served by Angela who was super friendly and efficient. I had the lemon crepes with fresh berries and my husband had the 3 eggs, bacon, hash browns and toast. Everything was delicious. Our water and coffee never went empty. Sorry we waited so long to give it a try.More'\n",
      "\n",
      "\n",
      "b'We had a party of 11 for breakfast - food was amazing - service was good \\nHighly recommend to anyone visiting Vegas\\nEggs Benedictine \\nBanana foster crepes - recommended by our waitress not on menu was delicious'\n",
      "\n",
      "\n",
      "b\"This used to be our favorite restaurant in Vegas.  Not anymore. The quality of the food has really gone down.  And the prices have gone all the way up. Example-we used to always order the seafood platter as a main course. Now it's only offered...as an appetizer.  So for $57 the platter consisted of 4 shrimp, 4 oysters, a small cup of salmon tataki and some crackers.  We then ordered onion soup. It was so salty that it was inedible.  The waiter never asked us why, when he cleared our table, our soup bowls had hardly been touched.  We unfortunately won't be back.More\"\n",
      "\n",
      "\n",
      "b'After getting a lovely seat on the terrace, that\\xe2\\x80\\x99s where it went downhill. No one came to our table and we were not offered a drink for over 20 minutes although other tables were being served. We explained to the Manager and our order was...eventually taken.  The other waiters were explaining the specials etc and looking after their guests. Our waiter eventually arrived with the drinks after being reminded by the Manager and he literally threw them down. He never asked again if we needed anything else and nor did the Manager. Having been here many times over the years, the standard of food and service has definitely decreased and what should have been a special day was spoiled. Terrible customer service, average food, a hefty $70 bill and a restaurant that has clearly lost its polish.More'\n",
      "\n",
      "\n",
      "b\"I'm an early riser, even in Vegas. I love that Mon Ami opens at 7:00 A.M. Wonderful breakfast, had the Ham & Cheese Omelet, excellent.\\n\\nFor dinner, the French-Onion soup is the best!\"\n",
      "\n",
      "\n",
      "b\"It was cold the day we went. heater on the outside kept us comfortable.\\nEveryone at the table had something different and it all was fantastic.\\nStaff was great, drinks great, food great.\\nThe best Bacon i have ever eaten and I have eaten plenty....I'm rating as mid range expensive, but watch your drink orders they will quickly inflate your check.More\"\n",
      "\n",
      "\n",
      "b'A group of (5) came here for breakfast. We all loved it. Approximately $25 per person before tip. The bacon and toast are really good. We will come back.'\n",
      "\n",
      "\n",
      "b'Everybody raves about this restaurant so we thought we would give it a try to celebrate our wedding.\\nThis restaurant is inside the Paris Hotel and Casino but has both inside and outside dining options but you can\\xe2\\x80\\x99t book outside you have to take pot...luck.\\nBeautifully done out as old fashioned French bistro/ restaurant style. We dressed up accordingly\\xe2\\x80\\xa6.. don\\xe2\\x80\\x99t both most looked like they hadn\\xe2\\x80\\x99t bothered to get changed or even make an effort.\\nWe were seated inside, ordered the pate and French onion soup both were amazing the issue came when half way through eating the starters the brought the mains! \\nWe both had steak, this was nice enough, nice not great though not cooked as requested.and the \\xe2\\x80\\x98fries\\xe2\\x80\\x99 were rank thin, scrag ends. there\\xe2\\x80\\x99s was no presentation and looked like cafe food.\\nThe service was the worst we had received in Vegas, we were not checked on during our visit to ask if the food was ok, but out water was refilled.\\nThere were too many staff, most of which seemed to think being on their phone was more important, some were working very had tho.\\nWhat was meant to be a nice relaxing wedding meal was turned into to a transport cafe experience, I\\xe2\\x80\\x99m sure this doesn\\xe2\\x80\\x99t always happen but for approx \\xc2\\xa3150 for 2 plus tip for 45 minutes we were left disappointed and very underwhelmed.\\nWould not recommend.More'\n",
      "\n",
      "\n",
      "b'We had reservations for the interior seating at 8am. We were at the Paris at 7am due to our sleep schedule being so messed up. They allowed us to set on the patio. It was probably the most enjoyable breakfast I have ever had. The...service, view, food, and atmosphere was a refreshing change for the hustle and bustle of the strip!More'\n",
      "\n",
      "\n",
      "b\"This is my wife's favorite place for breakfast...located in the Paris property across from the Bellagio.  Great staff and the food is incredible...order the warm baguette.\"\n",
      "\n",
      "\n",
      "b'We were able to get seated inside without a reservation on a Tuesday evening. I ordered the steak and my husband ordered a pasta shrimp dish.  We both enjoyed our food. The shrimp was really good, but there was only about 4 pieces. My husband...also had the clam chowder. The consistency was not like New England clam chowder, but he said it had a good flavor. We had the creme Brule for dessert, which was excellent.More'\n",
      "\n",
      "\n",
      "b'Food delivered promptly,steak frites was excellent value in LV ,wine was reasonable ,watch the speed pouring\\xe2\\x80\\xa6..bread great,would return ,but so many places too try'\n",
      "\n",
      "\n",
      "b'Our group of 4 went for dinner our first night in Las Vegas. We were given an indoor table against the glass with a view of the bellagio fountains. All our meals were delicious. M husband had the steak as did our other two guests...and said it was perfect. I had the mussels. They were the plumpest most delicious mussels I have ever had. Dipping the Fritis in the wine sauce was soooo good. We enjoyed our meal so much we returned our last day for lunch. Unfortunately mussels is not part of the lunch menu which my husband was craving after having had tasted mine.  We were a group of 6 now. They offered a brunch menu. We had the eggs Benedict, burgers, escargot, onion soup , Caesar salad\\xe2\\x80\\xa6. No complaints. All delicious and again a wonderful view and great location. This a must for a meal but make sure you make reservations as they book up fast!More'\n",
      "\n",
      "\n"
     ]
    }
   ],
   "source": [
    "review_SeeMore = driver.find_elements_by_class_name(\"partial_entry\")\n",
    "for review in review_SeeMore:\n",
    "    print(review.get_attribute('textContent').encode(\"utf-8\"))\n",
    "    \n"
   ]
  },
  {
   "cell_type": "code",
   "execution_count": 52,
   "id": "664df9a3",
   "metadata": {},
   "outputs": [],
   "source": [
    "# score_class = driver.find_elements_by_xpath(\".//span[contains(@class, 'ui_bubble_rating bubble_')]\")#.get_attribute(\"class\")\n",
    "# i.split(\"_\")[3]\n",
    "# review = driver.find_elements_by_xpath(\".//p[@class='partial_entry']\")"
   ]
  },
  {
   "cell_type": "code",
   "execution_count": 53,
   "id": "5bd7e2ed",
   "metadata": {},
   "outputs": [],
   "source": [
    "# for i in review:\n",
    "#     print(i.text+'\\n')"
   ]
  },
  {
   "cell_type": "code",
   "execution_count": 54,
   "id": "bb9c8bae",
   "metadata": {
    "scrolled": true
   },
   "outputs": [],
   "source": [
    "# cpt=0\n",
    "# for i in score_class[5:20]:\n",
    "#     print(float(i.get_attribute(\"class\").split(\"_\")[3]+'\\n')/10)\n"
   ]
  }
 ],
 "metadata": {
  "kernelspec": {
   "display_name": "Python 3 (ipykernel)",
   "language": "python",
   "name": "python3"
  },
  "language_info": {
   "codemirror_mode": {
    "name": "ipython",
    "version": 3
   },
   "file_extension": ".py",
   "mimetype": "text/x-python",
   "name": "python",
   "nbconvert_exporter": "python",
   "pygments_lexer": "ipython3",
   "version": "3.7.3"
  }
 },
 "nbformat": 4,
 "nbformat_minor": 5
}
